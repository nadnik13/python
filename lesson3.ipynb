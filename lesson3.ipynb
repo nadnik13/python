{
 "cells": [
  {
   "cell_type": "markdown",
   "metadata": {},
   "source": [
    "<center>\n",
    "\n",
    "# Курс \"Основы Python для анализа данных\"\n",
    "\n",
    "## Артамонов Игорь Михайлович\n",
    "## Факультет \"Прикладная математика\" МАИ\n",
    "\n",
    "### Занятие № 3.  Объектно ориентированное и функциональное программирование\n",
    "\n",
    "</center>\n"
   ]
  },
  {
   "cell_type": "markdown",
   "metadata": {},
   "source": [
    "## Общение / вопросы по курсу\n",
    "\n",
    "Платформа для групповой работы Atlassian Confluence факультета \"Прикладная математика\"\n",
    "\n",
    "https://mai.moscow/display/PYTML"
   ]
  },
  {
   "cell_type": "markdown",
   "metadata": {},
   "source": [
    "* <b>Занятие 3. Объектно ориентированное и функциональное программирование</b>\n",
    "       * Объектно ориентированное программирование\n",
    "           * Общие понятия\n",
    "           * ООП в Python\n",
    "       * Функциональное программирование\n",
    "           * Общие понятия\n",
    "           * ФП в Python"
   ]
  },
  {
   "cell_type": "markdown",
   "metadata": {},
   "source": [
    "## virtualenv + Jupyter notebook"
   ]
  },
  {
   "cell_type": "markdown",
   "metadata": {},
   "source": [
    "```\n",
    "<Ctrl> + <Alt> + T - новое окно терминала\n",
    "```"
   ]
  },
  {
   "cell_type": "markdown",
   "metadata": {},
   "source": [
    "```\n",
    "$ conda -V\n",
    "\n",
    "$ conda update conda\n",
    "\n",
    "$ conda search \"^python$\"\n",
    "\n",
    "$ conda create -n yourenvname python=x.x anaconda\n",
    "\n",
    "$ source activate yourenvname\n",
    "\n",
    "$ jupyter notebook\n",
    "\n",
    "$ conda install -n yourenvname [package]\n",
    "```"
   ]
  },
  {
   "cell_type": "markdown",
   "metadata": {},
   "source": [
    "# Общее"
   ]
  },
  {
   "cell_type": "markdown",
   "metadata": {},
   "source": [
    "* Python позволяет писать в рамках большинства подходов к программированию. Часто говорят, что он поддерживает несколько __парадигм__ программирования:\n",
    "    - императивное\n",
    "    - структурное\n",
    "    - объектно-ориентированное\n",
    "    - функциональное\n",
    "* При наличии дополнительных пакетов (Kanren + SymPy) поддерживает даже логическое программирование\n",
    "* Такие языки называют многопарадигменными (_multi-paradigm programming language_)"
   ]
  },
  {
   "cell_type": "markdown",
   "metadata": {},
   "source": [
    "### Когда недостаточно императивного программирования:"
   ]
  },
  {
   "cell_type": "markdown",
   "metadata": {},
   "source": [
    "* много (в том числе - очень) кода\n",
    "* можно выделить структуру задачи через функции или объекты\n",
    "* использование внешних библиотек, использующих определенный подход (например, почти все интерфейсные\n",
    "  библиотеки используют объектно-ориентированный подход\n",
    "* рефакторинг кода для улучшения его структуры\n",
    "* хорошее понимание одной из парадигм и умение \"раскладывать\" в неё задачи"
   ]
  },
  {
   "cell_type": "markdown",
   "metadata": {},
   "source": [
    "## <font color=blue>ВАЖНО!</font>"
   ]
  },
  {
   "cell_type": "markdown",
   "metadata": {},
   "source": [
    "* наличие инструментов и использование парадигмы - это __разные__ вещи\n",
    "* правильное понимание и использование парадигмы часто __важнее__, чем наличие инструментов\n",
    "* многие инструменты могут успешно использоваться __вне__ \"чистого\" объектно-ориентированного или функционального кода"
   ]
  },
  {
   "cell_type": "code",
   "execution_count": 1,
   "metadata": {},
   "outputs": [],
   "source": [
    "import numpy as np\n",
    "import pandas as pd\n",
    "import matplotlib.pyplot as plt\n",
    "import scipy as sc\n",
    "%matplotlib inline"
   ]
  },
  {
   "cell_type": "markdown",
   "metadata": {},
   "source": [
    "# Объектно-ориентированное программирование"
   ]
  },
  {
   "cell_type": "markdown",
   "metadata": {},
   "source": [
    "## Основные принципы"
   ]
  },
  {
   "cell_type": "markdown",
   "metadata": {},
   "source": [
    "* способ __структурирования__ программы\n",
    "* поведение и свойства (чего-то) помещены в индивидуальные __объекты__\n",
    "* объект является представителем __класса__"
   ]
  },
  {
   "cell_type": "markdown",
   "metadata": {},
   "source": [
    "__Класс__ - определяет поведение __группы объектов__"
   ]
  },
  {
   "cell_type": "markdown",
   "metadata": {},
   "source": [
    "__Объект__ (__пример__ класса) - содержит реальные значения, относящиеся непосредственно к нему"
   ]
  },
  {
   "cell_type": "markdown",
   "metadata": {},
   "source": [
    "```python\n",
    "class my_class(superclass(es)):\n",
    "    \n",
    "    def __init__(self):\n",
    "        my_list = []\n",
    "        my_dict = {1:1}\n",
    "        n = 0\n",
    "        pass\n",
    "    \n",
    "    def method1(self, *args):\n",
    "        pass\n",
    "    \n",
    "    def method2(self, *args)\n",
    "        return x\n",
    "    \n",
    "    def __len__(self):\n",
    "        return n\n",
    "```"
   ]
  },
  {
   "cell_type": "markdown",
   "metadata": {},
   "source": [
    "self - обращение к переменной объекта\n",
    "var != self.var"
   ]
  },
  {
   "cell_type": "code",
   "execution_count": 2,
   "metadata": {},
   "outputs": [],
   "source": [
    "class Gender:\n",
    "    def __init__(self, gender):\n",
    "        self.gender = gender\n",
    "\n",
    "    def __str__(self):\n",
    "        return self.gender\n",
    "    \n",
    "    def get():\n",
    "        return self.gender\n",
    "    \n",
    "    def set(gender):\n",
    "        self.gender = gender\n"
   ]
  },
  {
   "cell_type": "code",
   "execution_count": 3,
   "metadata": {
    "scrolled": true
   },
   "outputs": [],
   "source": [
    "class Human:\n",
    "    \n",
    "    population = 0\n",
    "    \n",
    "    def __init__(self, name, age, gender):\n",
    "        self.name = name\n",
    "        self.age = age\n",
    "        self.gender = gender\n",
    "        Human.population += 1\n",
    "    \n",
    "    def __str__(self):\n",
    "        return 'Имя: {}, возраст: {}, пол: {}'.format(self.name, self.age, self.gender)\n",
    "    \n",
    "    def get_name(self):\n",
    "        return self.name\n",
    "\n",
    "    @classmethod\n",
    "    def how_many(cls):\n",
    "        return  Human.population\n"
   ]
  },
  {
   "cell_type": "code",
   "execution_count": 4,
   "metadata": {},
   "outputs": [
    {
     "data": {
      "text/plain": [
       "0"
      ]
     },
     "execution_count": 4,
     "metadata": {},
     "output_type": "execute_result"
    }
   ],
   "source": [
    "Human.how_many()"
   ]
  },
  {
   "cell_type": "code",
   "execution_count": 5,
   "metadata": {},
   "outputs": [
    {
     "name": "stdout",
     "output_type": "stream",
     "text": [
      "<class '__main__.Human'> Имя: Вася, возраст: 30, пол: М\n"
     ]
    }
   ],
   "source": [
    "vasya = Human('Вася', 30, Gender('М'))\n",
    "print(type(vasya), vasya)"
   ]
  },
  {
   "cell_type": "code",
   "execution_count": 6,
   "metadata": {},
   "outputs": [
    {
     "data": {
      "text/plain": [
       "<__main__.Human at 0x7f8745ef4278>"
      ]
     },
     "execution_count": 6,
     "metadata": {},
     "output_type": "execute_result"
    }
   ],
   "source": [
    "Human('Петя', 32, Gender('М'))"
   ]
  },
  {
   "cell_type": "code",
   "execution_count": 7,
   "metadata": {},
   "outputs": [],
   "source": [
    "class Man(Human):\n",
    "    def __init__(self, name, age, gender):\n",
    "        Human.__init__(self, name, age, Gender('M'))\n",
    "    \n",
    "    def get_name(self):\n",
    "        return 'Меня зовут ' + Human.get_name(self)"
   ]
  },
  {
   "cell_type": "code",
   "execution_count": null,
   "metadata": {},
   "outputs": [],
   "source": []
  },
  {
   "cell_type": "code",
   "execution_count": 8,
   "metadata": {},
   "outputs": [
    {
     "name": "stdout",
     "output_type": "stream",
     "text": [
      "2\n"
     ]
    }
   ],
   "source": [
    "print(Human.how_many())"
   ]
  },
  {
   "cell_type": "code",
   "execution_count": 9,
   "metadata": {},
   "outputs": [],
   "source": [
    "vasya = Man('Вася', 30, Gender('М'))"
   ]
  },
  {
   "cell_type": "code",
   "execution_count": 10,
   "metadata": {},
   "outputs": [
    {
     "name": "stdout",
     "output_type": "stream",
     "text": [
      "Имя: Вася, возраст: 30, пол: M\n"
     ]
    }
   ],
   "source": [
    "print(vasya)"
   ]
  },
  {
   "cell_type": "code",
   "execution_count": 11,
   "metadata": {},
   "outputs": [
    {
     "name": "stdout",
     "output_type": "stream",
     "text": [
      "Имя: Вася, возраст: 30, пол: M\n"
     ]
    },
    {
     "data": {
      "text/plain": [
       "(None, __main__.Man)"
      ]
     },
     "execution_count": 11,
     "metadata": {},
     "output_type": "execute_result"
    }
   ],
   "source": [
    "print(vasya), type(vasya)"
   ]
  },
  {
   "cell_type": "code",
   "execution_count": 12,
   "metadata": {},
   "outputs": [
    {
     "data": {
      "text/plain": [
       "True"
      ]
     },
     "execution_count": 12,
     "metadata": {},
     "output_type": "execute_result"
    }
   ],
   "source": [
    "isinstance(vasya, object)"
   ]
  },
  {
   "cell_type": "code",
   "execution_count": null,
   "metadata": {},
   "outputs": [],
   "source": []
  },
  {
   "cell_type": "code",
   "execution_count": 13,
   "metadata": {},
   "outputs": [
    {
     "data": {
      "text/plain": [
       "True"
      ]
     },
     "execution_count": 13,
     "metadata": {},
     "output_type": "execute_result"
    }
   ],
   "source": [
    "isinstance(vasya, Man)"
   ]
  },
  {
   "cell_type": "code",
   "execution_count": 14,
   "metadata": {},
   "outputs": [
    {
     "data": {
      "text/plain": [
       "False"
      ]
     },
     "execution_count": 14,
     "metadata": {},
     "output_type": "execute_result"
    }
   ],
   "source": [
    "isinstance(vasya, list)"
   ]
  },
  {
   "cell_type": "code",
   "execution_count": 15,
   "metadata": {},
   "outputs": [
    {
     "data": {
      "text/plain": [
       "True"
      ]
     },
     "execution_count": 15,
     "metadata": {},
     "output_type": "execute_result"
    }
   ],
   "source": [
    "isinstance([1,2,3], list)"
   ]
  },
  {
   "cell_type": "markdown",
   "metadata": {},
   "source": [
    "## <font color=red>ЗАДАНИЕ</font>"
   ]
  },
  {
   "cell_type": "markdown",
   "metadata": {},
   "source": [
    "Реализуйте класс клеток (cell) со следующими функциями:<br>\n",
    "* при создании у клетки задается имя (строка)\n",
    "* hello - клетка печатает \"Клетка:\" плюс свое имя\n",
    "* die - клетка погибает\n",
    "* divide - возвращяет tuple из двух новых клеток, к имени старой клетки добавлются 0 и 1\n",
    "    старая клетка погибает\n",
    "* Надо сохранять количество клеток в переменной класса"
   ]
  },
  {
   "cell_type": "code",
   "execution_count": 2,
   "metadata": {},
   "outputs": [],
   "source": [
    "class cell:\n",
    "    population = 0\n",
    "    \n",
    "    def __init__(self, name):\n",
    "        self.name = name\n",
    "        cell.population +=1\n",
    "    def __str__(self):\n",
    "        return self.name\n",
    "        \n",
    "    def hello(self):\n",
    "        print(\"Hello, %s\" % self.name)\n",
    "        \n",
    "    def die(self):\n",
    "        cell.population -=1\n",
    "        \n",
    "    def divide(self):\n",
    "        name0 = self.name + '0'\n",
    "        name1 = self.name + '1'\n",
    "        self.die()\n",
    "        return (cell(name0), cell(name1)) # не понятно возвращать имена клеток или ссылки на них"
   ]
  },
  {
   "cell_type": "code",
   "execution_count": 3,
   "metadata": {},
   "outputs": [
    {
     "name": "stdout",
     "output_type": "stream",
     "text": [
      "1\n",
      "Hello, Nadya\n",
      "1\n",
      "2\n"
     ]
    }
   ],
   "source": [
    "a = cell('Nadya')\n",
    "print(cell.population)\n",
    "a.hello()\n",
    "print(cell.population)\n",
    "s = a.divide()\n",
    "print(cell.population)"
   ]
  },
  {
   "cell_type": "markdown",
   "metadata": {},
   "source": [
    "#### Чего в Python нет:\n",
    "    * Перегрузки функций"
   ]
  },
  {
   "cell_type": "markdown",
   "metadata": {},
   "source": [
    "#### Что есть:\n",
    "    * Перегрузка операторов\n",
    "        * Арифметических\n",
    "        * Сравнения\n",
    "        * Как бинарных (+,-), так и унарных (-)\n",
    "    * Определение \"стандартных\" функций (len, str)"
   ]
  },
  {
   "cell_type": "code",
   "execution_count": 37,
   "metadata": {},
   "outputs": [],
   "source": [
    "class MyVector: \n",
    "    def __init__(self, a, b): \n",
    "        self.a = a \n",
    "        self.b = b \n",
    "    \n",
    "    def __len__(self):\n",
    "        return math.sqrt(self.a**2 + self.b**2)\n",
    "\n",
    "    # adding two objects  \n",
    "    def __add__(self, other): \n",
    "        return MyVector(self.a + other.a, self.b + other.b )\n",
    "  \n",
    "    def __neg__(self): \n",
    "        return MyVector(-self.a, -self.b)\n",
    "  \n",
    "    def __str__(self): \n",
    "        return f\"({self.a}, {self.b})\"\n",
    "    \n",
    "    def __lt__(self, other): \n",
    "        return self.__len__() < other.__len__()\n",
    "        \n",
    "    def __eq__(self, other):\n",
    "        return self.a == other.a and self.b == other.b\n"
   ]
  },
  {
   "cell_type": "code",
   "execution_count": 38,
   "metadata": {},
   "outputs": [
    {
     "name": "stdout",
     "output_type": "stream",
     "text": [
      "(2, 3) (2, 3) (3, 5)\n"
     ]
    }
   ],
   "source": [
    "a = MyVector(2,3)\n",
    "b = MyVector(2,3)\n",
    "c = MyVector(3,5)\n",
    "\n",
    "print(a, b, c)"
   ]
  },
  {
   "cell_type": "code",
   "execution_count": 30,
   "metadata": {},
   "outputs": [
    {
     "data": {
      "text/plain": [
       "<__main__.MyVector at 0x7f8745f08390>"
      ]
     },
     "execution_count": 30,
     "metadata": {},
     "output_type": "execute_result"
    }
   ],
   "source": [
    "a + b"
   ]
  },
  {
   "cell_type": "code",
   "execution_count": 33,
   "metadata": {},
   "outputs": [],
   "source": [
    "z = b + c + c"
   ]
  },
  {
   "cell_type": "code",
   "execution_count": 35,
   "metadata": {},
   "outputs": [
    {
     "name": "stdout",
     "output_type": "stream",
     "text": [
      "(8, 13)\n"
     ]
    }
   ],
   "source": [
    "print(z)"
   ]
  },
  {
   "cell_type": "code",
   "execution_count": 36,
   "metadata": {},
   "outputs": [
    {
     "data": {
      "text/plain": [
       "(-2, -3)"
      ]
     },
     "execution_count": 36,
     "metadata": {},
     "output_type": "execute_result"
    }
   ],
   "source": [
    "-a"
   ]
  },
  {
   "cell_type": "markdown",
   "metadata": {},
   "source": [
    "# Функциональное программирование"
   ]
  },
  {
   "cell_type": "markdown",
   "metadata": {},
   "source": [
    "## Основные принципы"
   ]
  },
  {
   "cell_type": "markdown",
   "metadata": {},
   "source": [
    "__\"Чистое\" функциональное программирование__<br>\n",
    "\n",
    "* Функциональное программирование основано на испольовании функций и их композиций\n",
    "* Переменные отсутствуют, только константы\n",
    "* Используются только неизменяемые структуры данных\n",
    "* Нет циклов, нелокальных переходов и исключений\n",
    "* Нет побочных эффектов. Для операций с побочными эффектами используются монады"
   ]
  },
  {
   "cell_type": "markdown",
   "metadata": {},
   "source": [
    "В начале оно кажется очень сложным и непонятным ..."
   ]
  },
  {
   "cell_type": "markdown",
   "metadata": {},
   "source": [
    "### Чистота функций\n",
    "* функция возвращает одинаковый результат при одинаковых значениях аргументов\n",
    "* у функции отсутствуют побочные эффекты -> не зависит от контекста\n"
   ]
  },
  {
   "cell_type": "code",
   "execution_count": 14,
   "metadata": {},
   "outputs": [],
   "source": [
    "def pure_func(x):\n",
    "    return 2 * 3.1415926 * x \n",
    "\n",
    "y = 2\n",
    " \n",
    "def impure_func(x):\n",
    "    y = y + 2 * 3.1415926 * x\n",
    "    return y"
   ]
  },
  {
   "cell_type": "markdown",
   "metadata": {},
   "source": [
    "### Следствия\n",
    "* могут выполняться (оцениваться) в любом порядке\n",
    "* удобны для параллельного выполнения<br>"
   ]
  },
  {
   "cell_type": "markdown",
   "metadata": {},
   "source": [
    "### Вызов чистой функции всегда может быть заменен на результат (ссылочная прозрачность)\n",
    "* проще  тестирование (функция \"изолирована\")\n",
    "* читаемость (не надо анализировать другие функции)\n",
    "* возможность анализа и валидации кода"
   ]
  },
  {
   "cell_type": "markdown",
   "metadata": {},
   "source": [
    "### Первоклассные функции"
   ]
  },
  {
   "cell_type": "markdown",
   "metadata": {},
   "source": [
    "* Функции имеют те же свойства, что и остальные значения\n",
    "* Им пожно присвоить имя или присвоить их объекту\n",
    "* Их можно передать, как аргумент функции\n",
    "* Их можно возвращать"
   ]
  },
  {
   "cell_type": "markdown",
   "metadata": {},
   "source": [
    "## <font color=red>ЗАДАНИЕ</font>"
   ]
  },
  {
   "cell_type": "markdown",
   "metadata": {},
   "source": [
    "Реализуйте класс, принимающий имя функции в виде строки и функцию, связанную с этой строкой. <br>\n",
    "При выполнении метода __execute__ с кодом и переменной или значением выполняет функцию, связанную с кодом.<br>\n",
    "Если кода нет, то методы генерирует прерывание __KeyError__"
   ]
  },
  {
   "cell_type": "code",
   "execution_count": 58,
   "metadata": {},
   "outputs": [],
   "source": [
    "class FDict():\n",
    "    def __init__(self):\n",
    "        self.dict_fun = dict()\n",
    "        \n",
    "\n",
    "    # добавляет функцию с кодом\n",
    "    def add(self, code, func):\n",
    "        self.dict_fun[code]=func\n",
    "    \n",
    "    # удаляет функцию по коду\n",
    "    def remove(self, code):\n",
    "        pass\n",
    "\n",
    "    # выполняет функцию с аргументом\n",
    "    def execute(self, code, arg):\n",
    "         return self.get_func(code)(arg)\n",
    "    \n",
    "    # возвращает функцию по коду\n",
    "    def get_func(self, code):\n",
    "        return self.dict_fun[code]\n",
    "    \n",
    "    # получает 2*N аргументов (код, значение, код, значение ..) и возвращает кортеж из значений\n",
    "    def execute_many(self, *args):\n",
    "        res = []\n",
    "        for i in range(int(len(args)/2)):\n",
    "            res.append(self.execute(args[2*i], args[2*i+1]))\n",
    "        return tuple(res)\n"
   ]
  },
  {
   "cell_type": "markdown",
   "metadata": {},
   "source": [
    "Проверьте функционирование Вашего кода. Проверьте работу с отсутствующим кодом и добавьте обработку исключения."
   ]
  },
  {
   "cell_type": "code",
   "execution_count": 60,
   "metadata": {},
   "outputs": [
    {
     "name": "stdout",
     "output_type": "stream",
     "text": [
      "1. sin(1.0472)=0.8660, cos(1.0472)=0.5000\n",
      "2. sin(1.047198)=0.866025, cos(1.047198)=-1.000000\n"
     ]
    }
   ],
   "source": [
    "import math\n",
    "from math import sin, cos\n",
    "\n",
    "x = math.pi / 3\n",
    "\n",
    "func_dict = FDict()\n",
    "func_dict.add('sin', math.sin)\n",
    "func_dict.add('cos', math.cos)\n",
    "\n",
    "y1 = func_dict.execute('sin', x)\n",
    "y2 = func_dict.execute('cos', x)\n",
    "\n",
    "print(\"1. sin({0:.4f})={1:.4f}, cos({0:.4f})={2:.4f}\".format(x, y1, y2))\n",
    "\n",
    "y1, y2 = func_dict.execute_many('sin', x*2, 'cos', x*3)\n",
    "\n",
    "print(\"2. sin({0:4f})={1:4f}, cos({0:4f})={2:4f}\".format(x, y1, y2))\n"
   ]
  },
  {
   "cell_type": "markdown",
   "metadata": {},
   "source": [
    "### Лямбда-функции (анонимные функции)"
   ]
  },
  {
   "cell_type": "code",
   "execution_count": 17,
   "metadata": {},
   "outputs": [
    {
     "data": {
      "text/plain": [
       "-0.15694593947078894"
      ]
     },
     "execution_count": 17,
     "metadata": {},
     "output_type": "execute_result"
    }
   ],
   "source": [
    "f = lambda x, y: sin(x**2) + cos(y**2)\n",
    "\n",
    "def func(x,y):\n",
    "    return sin(x**2) + cos(y**2)\n",
    "\n",
    "f(math.pi/2, math.pi/2)"
   ]
  },
  {
   "cell_type": "markdown",
   "metadata": {},
   "source": [
    "## <font color=green>ВСПОМИНАЕМ</font> генераторы списков, словарей и просто генераторы"
   ]
  },
  {
   "cell_type": "code",
   "execution_count": 23,
   "metadata": {},
   "outputs": [
    {
     "data": {
      "text/plain": [
       "[0.0,\n",
       " 1.4142135623730951,\n",
       " 2.0,\n",
       " 2.449489742783178,\n",
       " 2.8284271247461903,\n",
       " 3.1622776601683795,\n",
       " 3.4641016151377544,\n",
       " 3.7416573867739413,\n",
       " 4.0,\n",
       " 4.242640687119285,\n",
       " 4.47213595499958,\n",
       " 4.69041575982343,\n",
       " 4.898979485566356,\n",
       " 5.0990195135927845,\n",
       " 5.291502622129181,\n",
       " 5.477225575051661,\n",
       " 5.656854249492381,\n",
       " 5.830951894845301,\n",
       " 6.0]"
      ]
     },
     "execution_count": 23,
     "metadata": {},
     "output_type": "execute_result"
    }
   ],
   "source": [
    "import math\n",
    "\n",
    "even_square_roots = [(lambda x: math.sqrt(x))(x) for x in range(37) if x % 2 == 0]\n",
    "even_square_roots\n"
   ]
  },
  {
   "cell_type": "markdown",
   "metadata": {},
   "source": [
    "## <font color=red>ЗАДАНИЕ</font>"
   ]
  },
  {
   "cell_type": "markdown",
   "metadata": {},
   "source": [
    "1. Преобразуйте этот код в формирование словаря, в котором число - ключ, а корень из него - значение"
   ]
  },
  {
   "cell_type": "code",
   "execution_count": 62,
   "metadata": {},
   "outputs": [
    {
     "data": {
      "text/plain": [
       "{0: 0.0,\n",
       " 2: 1.4142135623730951,\n",
       " 4: 2.0,\n",
       " 6: 2.449489742783178,\n",
       " 8: 2.8284271247461903,\n",
       " 10: 3.1622776601683795,\n",
       " 12: 3.4641016151377544,\n",
       " 14: 3.7416573867739413,\n",
       " 16: 4.0,\n",
       " 18: 4.242640687119285,\n",
       " 20: 4.47213595499958,\n",
       " 22: 4.69041575982343,\n",
       " 24: 4.898979485566356,\n",
       " 26: 5.0990195135927845,\n",
       " 28: 5.291502622129181,\n",
       " 30: 5.477225575051661,\n",
       " 32: 5.656854249492381,\n",
       " 34: 5.830951894845301,\n",
       " 36: 6.0}"
      ]
     },
     "execution_count": 62,
     "metadata": {},
     "output_type": "execute_result"
    }
   ],
   "source": [
    "even_square_roots = {x:(lambda x: math.sqrt(x))(x) for x in range(37) if x % 2 == 0}\n",
    "\n",
    "even_square_roots\n"
   ]
  },
  {
   "cell_type": "markdown",
   "metadata": {},
   "source": [
    "2. Преобразуйте этот код в формирование генератора и пройтиде по нему с помощью цикла for"
   ]
  },
  {
   "cell_type": "code",
   "execution_count": 66,
   "metadata": {},
   "outputs": [
    {
     "data": {
      "text/plain": [
       "{0: 0.0,\n",
       " 2: 1.4142135623730951,\n",
       " 4: 2.0,\n",
       " 6: 2.449489742783178,\n",
       " 8: 2.8284271247461903,\n",
       " 10: 3.1622776601683795,\n",
       " 12: 3.4641016151377544,\n",
       " 14: 3.7416573867739413,\n",
       " 16: 4.0,\n",
       " 18: 4.242640687119285,\n",
       " 20: 4.47213595499958,\n",
       " 22: 4.69041575982343,\n",
       " 24: 4.898979485566356,\n",
       " 26: 5.0990195135927845,\n",
       " 28: 5.291502622129181,\n",
       " 30: 5.477225575051661,\n",
       " 32: 5.656854249492381,\n",
       " 34: 5.830951894845301,\n",
       " 36: 6.0}"
      ]
     },
     "execution_count": 66,
     "metadata": {},
     "output_type": "execute_result"
    }
   ],
   "source": [
    "f = lambda x: math.sqrt(x)\n",
    "\n",
    "even_square_roots = {x:f(x) for x in range(37) if x % 2 == 0}\n",
    "\n",
    "even_square_roots"
   ]
  },
  {
   "cell_type": "markdown",
   "metadata": {},
   "source": [
    "### Функции для работы с итерируемыми"
   ]
  },
  {
   "cell_type": "markdown",
   "metadata": {},
   "source": [
    "```python\n",
    "    map()\n",
    "    filter()\n",
    "    reduce()\n",
    "```"
   ]
  },
  {
   "cell_type": "markdown",
   "metadata": {},
   "source": [
    "__map__ - выполняет функцию над всеми элементами итерируемого"
   ]
  },
  {
   "cell_type": "code",
   "execution_count": 67,
   "metadata": {},
   "outputs": [
    {
     "data": {
      "text/plain": [
       "<map at 0x1cebba3ed30>"
      ]
     },
     "execution_count": 67,
     "metadata": {},
     "output_type": "execute_result"
    }
   ],
   "source": [
    "squared =  map(lambda x: x**2, [1,2,3])\n",
    "squared"
   ]
  },
  {
   "cell_type": "code",
   "execution_count": 68,
   "metadata": {},
   "outputs": [
    {
     "data": {
      "text/plain": [
       "map"
      ]
     },
     "execution_count": 68,
     "metadata": {},
     "output_type": "execute_result"
    }
   ],
   "source": [
    "type(squared)"
   ]
  },
  {
   "cell_type": "code",
   "execution_count": 69,
   "metadata": {},
   "outputs": [
    {
     "data": {
      "text/plain": [
       "generator"
      ]
     },
     "execution_count": 69,
     "metadata": {},
     "output_type": "execute_result"
    }
   ],
   "source": [
    "x = (i for i in range(10))\n",
    "type(x)"
   ]
  },
  {
   "cell_type": "code",
   "execution_count": 70,
   "metadata": {},
   "outputs": [
    {
     "data": {
      "text/plain": [
       "True"
      ]
     },
     "execution_count": 70,
     "metadata": {},
     "output_type": "execute_result"
    }
   ],
   "source": [
    "isinstance(squared, map)"
   ]
  },
  {
   "cell_type": "markdown",
   "metadata": {},
   "source": [
    "__<font color=blue>??</font>__ Какой тип возвращает __map__? Почему?"
   ]
  },
  {
   "cell_type": "markdown",
   "metadata": {},
   "source": [
    "## <font color=red>ЗАДАНИЕ</font>"
   ]
  },
  {
   "cell_type": "markdown",
   "metadata": {},
   "source": [
    "Найдите длину самой длинной строки в списке с помощью __map__"
   ]
  },
  {
   "cell_type": "code",
   "execution_count": 115,
   "metadata": {},
   "outputs": [],
   "source": [
    "l = ['abc', 'xyz', 'ab', 'qwer', 'trench', 'm', '17', 'www.mai.ru', 'd', 'plot']"
   ]
  },
  {
   "cell_type": "code",
   "execution_count": 117,
   "metadata": {},
   "outputs": [
    {
     "data": {
      "text/plain": [
       "10"
      ]
     },
     "execution_count": 117,
     "metadata": {},
     "output_type": "execute_result"
    }
   ],
   "source": [
    "max(list(map(lambda x: len(x), l)))"
   ]
  },
  {
   "cell_type": "markdown",
   "metadata": {},
   "source": [
    "__filter__ - возвращает те значения из итерируемого, для которых верна функция"
   ]
  },
  {
   "cell_type": "code",
   "execution_count": 44,
   "metadata": {},
   "outputs": [
    {
     "data": {
      "text/plain": [
       "[0, 2, 4, 6, 8, 10, 12, 14, 16, 18]"
      ]
     },
     "execution_count": 44,
     "metadata": {},
     "output_type": "execute_result"
    }
   ],
   "source": [
    "even = list(filter(lambda x:x % 2 == 0, range(20)))\n",
    "even"
   ]
  },
  {
   "cell_type": "markdown",
   "metadata": {},
   "source": [
    "## <font color=red>ЗАДАНИЕ</font>"
   ]
  },
  {
   "cell_type": "markdown",
   "metadata": {},
   "source": [
    "Найдите все строки, в которых присутствует буква __'a'__"
   ]
  },
  {
   "cell_type": "code",
   "execution_count": 82,
   "metadata": {},
   "outputs": [
    {
     "data": {
      "text/plain": [
       "['abc', 'ab', 'www.mai.ru']"
      ]
     },
     "execution_count": 82,
     "metadata": {},
     "output_type": "execute_result"
    }
   ],
   "source": [
    "list(filter(lambda x: 'a' in x,l))"
   ]
  },
  {
   "cell_type": "markdown",
   "metadata": {},
   "source": [
    "__reduce()__ - сворачивает итерируемое в одно значение<br>\n",
    "В отличие от map и filter у функции 2 аргумента"
   ]
  },
  {
   "cell_type": "code",
   "execution_count": 74,
   "metadata": {},
   "outputs": [],
   "source": [
    "from functools import reduce"
   ]
  },
  {
   "cell_type": "code",
   "execution_count": 86,
   "metadata": {},
   "outputs": [
    {
     "data": {
      "text/plain": [
       "36"
      ]
     },
     "execution_count": 86,
     "metadata": {},
     "output_type": "execute_result"
    }
   ],
   "source": [
    "values = list(range(10))\n",
    "summed = reduce( lambda x,y: x+y, values)\n",
    "summed"
   ]
  },
  {
   "cell_type": "markdown",
   "metadata": {},
   "source": [
    "## <font color=red>ЗАДАНИЕ</font>"
   ]
  },
  {
   "cell_type": "markdown",
   "metadata": {},
   "source": [
    "Верните самую длинную строку из списка с помощью reduce<br><br>\n",
    "__<font color=green>Уложившимся в 1 строку с lambda-функцией - 1 балл</font>__"
   ]
  },
  {
   "cell_type": "code",
   "execution_count": 116,
   "metadata": {},
   "outputs": [
    {
     "data": {
      "text/plain": [
       "['www.mai.ru']"
      ]
     },
     "execution_count": 116,
     "metadata": {},
     "output_type": "execute_result"
    }
   ],
   "source": [
    "list(filter(lambda x: len(x) == reduce( lambda x,y: max(x,y), list(map(lambda x: len(x), l))),l))"
   ]
  },
  {
   "cell_type": "markdown",
   "metadata": {},
   "source": [
    "### Ещё полезности из __functools__"
   ]
  },
  {
   "cell_type": "markdown",
   "metadata": {},
   "source": [
    "__functools__ - работа с функциями высшего порядка, то есть функциями, которые работают с функциями\n",
    "или возвращают другие функции"
   ]
  },
  {
   "cell_type": "code",
   "execution_count": 46,
   "metadata": {},
   "outputs": [],
   "source": [
    "from functools import partial"
   ]
  },
  {
   "cell_type": "code",
   "execution_count": 47,
   "metadata": {},
   "outputs": [
    {
     "data": {
      "text/plain": [
       "6"
      ]
     },
     "execution_count": 47,
     "metadata": {},
     "output_type": "execute_result"
    }
   ],
   "source": [
    "def f(a, b, c):\n",
    "    return a + b + c\n",
    "\n",
    "f(1, 2, 3)"
   ]
  },
  {
   "cell_type": "code",
   "execution_count": 48,
   "metadata": {},
   "outputs": [
    {
     "data": {
      "text/plain": [
       "109"
      ]
     },
     "execution_count": 48,
     "metadata": {},
     "output_type": "execute_result"
    }
   ],
   "source": [
    "part_f = partial(f, 100)\n",
    "part_f(4, 5)"
   ]
  },
  {
   "cell_type": "code",
   "execution_count": 51,
   "metadata": {},
   "outputs": [
    {
     "data": {
      "text/plain": [
       "19"
      ]
     },
     "execution_count": 51,
     "metadata": {},
     "output_type": "execute_result"
    }
   ],
   "source": [
    "part_f = partial(f, b=10)\n",
    "part_f(a=4, c=5)"
   ]
  },
  {
   "cell_type": "markdown",
   "metadata": {},
   "source": [
    "## <font color=red>ДОМАШНЕЕ ЗАДАНИЕ</font>"
   ]
  },
  {
   "cell_type": "markdown",
   "metadata": {},
   "source": [
    "Сделайте класс бинарного дерева, который наполняется строками. <br>\n",
    "Все функции добавления, поиска, удаления, длины должны быть рекурсивными<br><br>\n",
    "<font color=red>__deadline - 18:00 27.09__</font>"
   ]
  },
  {
   "cell_type": "code",
   "execution_count": 109,
   "metadata": {},
   "outputs": [],
   "source": [
    "import Levenshtein as lev\n",
    "from functools import reduce\n",
    "\n",
    "class StrBinTree:\n",
    "    '''\n",
    "    Класс бинарного дерева с функциями поиска и выдачи расстояния до ближайшей сохраненной строки:\n",
    "     '''\n",
    "    def __init__(self,val):\n",
    "        self.left = None\n",
    "        self.right = None\n",
    "        self.val = val\n",
    "        self.nodes = [val]\n",
    "    \n",
    "    def add(self, val):\n",
    "        '''\n",
    "        добавляет строку в дерево\n",
    "        '''\n",
    "        if self.isin(val):\n",
    "            print('Element %s alredy exists in tree\\n' % val)\n",
    "            return\n",
    "        \n",
    "        if self.val==None:\n",
    "            self.val = val\n",
    "           \n",
    "        else: \n",
    "            if val < self.val:\n",
    "                if self.left is None:\n",
    "                    self.left = StrBinTree(val)\n",
    "                    \n",
    "                else:\n",
    "                    self.left.add(val)\n",
    "            elif val >= self.val:\n",
    "                if self.right is None:\n",
    "                    self.right = StrBinTree(val)\n",
    "                    \n",
    "                else:\n",
    "                    self.right.add(val)\n",
    "        self.nodes.append(val)\n",
    "    \n",
    "    # Функции позволяет использовать оператор '+' при добалении значения к дереву\n",
    "    def __add__(self, s):\n",
    "        '''\n",
    "        добавляет новую уникальную строку в дерево\n",
    "        '''\n",
    "        if self.isin(s):\n",
    "            print('Element %s alredy exists in tree\\n' % s)\n",
    "        else:\n",
    "            self.add(s)\n",
    "    \n",
    "    def isin(self, str):\n",
    "        '''\n",
    "        возвращает True, если есть точно такая же строка, или False, если её нет\n",
    "        '''\n",
    "        if self.val == str:\n",
    "            return True\n",
    "        elif str > self.val:\n",
    "            if self.right == None:\n",
    "                return False\n",
    "            self.right.isin(str)\n",
    "        elif str < self.val:\n",
    "            if self.left == None:\n",
    "                 return False\n",
    "            self.left.isin(str)\n",
    "            \n",
    "            \n",
    "        \n",
    "    def remove(self, str, parent = None, flag = ''):\n",
    "        '''\n",
    "        удаляет строку. Удаление производится только в случае точного совпадения\n",
    "        строки с указанной. Возвращает 0, если удаление выполнено, и 1 в остальных случаях\n",
    "        '''\n",
    "        if self.val == None:\n",
    "            return 0\n",
    "        if self.val < str:\n",
    "            if self.right is None:\n",
    "                return 0\n",
    "            if self.right.remove(str,self,'r') == 1:\n",
    "                self.nodes.remove(str)\n",
    "                return 1\n",
    "            else:\n",
    "                return 0\n",
    "        if self.val > str:\n",
    "            if self.left is None:\n",
    "                return 0\n",
    "            if self.left.remove(str,self,'l') == 1:\n",
    "                self.nodes.remove(str)\n",
    "                return 1\n",
    "            else:\n",
    "                return 0\n",
    "#             self.val == str\n",
    "# Искомый элемент - лист\n",
    "        if self.left is None and self.right is None:\n",
    "            self.nodes.remove(str)\n",
    "            self.val = None\n",
    "            if flag == 'r':\n",
    "                parent.right = None\n",
    "            elif flag == 'l':\n",
    "                parent.left = None\n",
    "            return 1\n",
    "# Искомый элемент имеет левое поддерево и не имеет правого\n",
    "        if self.left is not None and self.right is None:\n",
    "            self.nodes.remove(str)\n",
    "            self.val = None\n",
    "            if flag == 'r':\n",
    "                parent.right = self.left\n",
    "            elif flag == 'l':\n",
    "                parent.left = self.left\n",
    "            return 1\n",
    "# Искомый элемент имеет левое поддерево и не имеет правого\n",
    "        if self.right is not None and self.left is None:\n",
    "            self.nodes.remove(str)\n",
    "            self.val = None\n",
    "            if flag == 'r':\n",
    "                parent.right = self.right\n",
    "            elif flag == 'l':\n",
    "                parent.left = self.right\n",
    "            return 1\n",
    "# Искомый элемент имеет левое и правое поддеревья\n",
    "# Правое поддерево не имеет левого потомка.\n",
    "        if self.right.left is None:\n",
    "            self.nodes.remove(str)\n",
    "            self.val = None\n",
    "            if flag == 'r':\n",
    "                parent.right = self.right\n",
    "            elif flag == 'l':\n",
    "                parent.left = self.right\n",
    "            self.right.left = self.left\n",
    "            return 1\n",
    "# Искомый элемент имеет левое и правое поддеревья\n",
    "# Правое поддерево имеет левого потомка.\n",
    "        if self.right.left is not None:\n",
    "            self.nodes.remove(str)\n",
    "            self.val = None\n",
    "            child_parent = self.right\n",
    "            child_left = self.right.left\n",
    "            while child_left.left is not None:\n",
    "                child_parent = child_left\n",
    "                child_left = child_left.left\n",
    "            child_parent.left = None\n",
    "            \n",
    "            if flag == 'r':\n",
    "                parent.right = child_left\n",
    "            elif flag == 'l':\n",
    "                parent.left = child_left\n",
    "            child_left.right = self.right\n",
    "            child_left.left = self.left\n",
    "            return 1\n",
    "        else :\n",
    "            return 0\n",
    "        \n",
    "    def get(self, str):\n",
    "        '''\n",
    "        возвращает ближайшую с лексической точки зрения строку и расстояние строки-аргумента\n",
    "        до нее\n",
    "        '''\n",
    "        dist = list(map(lambda x: (x, lev.distance(x,str)), self.nodes))\n",
    "        return list(filter(lambda x: x[1] == min(elem[1] for elem in dist),dist))\n",
    "            \n",
    "\n",
    "    def __len__(self):\n",
    "        '''\n",
    "        возвращает количество строк в дереве\n",
    "        '''\n",
    "        return len(self.nodes)\n",
    "    \n",
    "    def to_list(self):\n",
    "        '''\n",
    "        возвращает все строки в виде упорядоченного списка\n",
    "        '''\n",
    "        self.nodes.sort()\n",
    "        return self.nodes\n",
    "    \n",
    "    def display(self, level=0):\n",
    "        '''\n",
    "        визуализирует дерево\n",
    "        '''\n",
    "        if self.val is None:\n",
    "            return 'Empty tree\\n'\n",
    "        ret = \"\"\n",
    "        if self.right is not None:\n",
    "            ret +=self.right.display(level+1)\n",
    "        \n",
    "        ret += \"\\t\"*level+self.val+\"\\n\"\n",
    "        \n",
    "        if self.left != None:\n",
    "            ret +=self.left.display(level+1)\n",
    "        return ret"
   ]
  },
  {
   "cell_type": "code",
   "execution_count": 110,
   "metadata": {},
   "outputs": [
    {
     "name": "stdout",
     "output_type": "stream",
     "text": [
      "['a']\n",
      "['a']\n",
      "Element bc alredy exists in tree\n",
      "\n",
      "Element A alredy exists in tree\n",
      "\n",
      "\tbcc\n",
      "\t\t\tbcb\n",
      "\t\tbc\n",
      "\t\t\tbbb\n",
      "a\n",
      "\t\t\tAC\n",
      "\t\tAAAB\n",
      "\t\t\tAAAAA\n",
      "\tAAAA\n",
      "\t\tAA\n",
      "\t\t\tA\n",
      "\n",
      "['a', 'bcc', 'bc', 'bcb', 'bbb', 'AAAB', 'AAAAA', 'AA', 'AC', 'A', 'A']\n",
      "[('bc', 0)]\n",
      "[('bc', 2), ('bbb', 2), ('AA', 2), ('AC', 2), ('A', 2), ('A', 2)]\n",
      "\tbcc\n",
      "\t\tbcb\n",
      "\t\t\tbbb\n",
      "a\n",
      "\t\t\tAC\n",
      "\t\tAAAB\n",
      "\tAAAAA\n",
      "\t\tAA\n",
      "\t\t\tA\n",
      "\n"
     ]
    }
   ],
   "source": [
    "tree = StrBinTree('a')\n",
    "len(tree)\n",
    "tree.to_list\n",
    "print(tree.nodes)\n",
    "print(tree.nodes)\n",
    "tree.add('bcc')\n",
    "tree.add('bc')\n",
    "tree.add('bc')\n",
    "tree.add('bcb')\n",
    "tree.add('bbb')\n",
    "tree.add('AAAA')\n",
    "tree.add('AAAB')\n",
    "tree.add('AAAAA')\n",
    "tree.add('AA')\n",
    "tree.add('AC')\n",
    "tree.add('A')\n",
    "tree + 'A'\n",
    "print(tree.display())\n",
    "\n",
    "tree.remove('bc')\n",
    "tree.remove('AAAA')\n",
    "\n",
    "print(tree.nodes)\n",
    "print(tree.get('bc'))\n",
    "print(tree.get('Abs'))\n",
    "print(tree.display())"
   ]
  },
  {
   "cell_type": "code",
   "execution_count": 111,
   "metadata": {},
   "outputs": [
    {
     "name": "stdout",
     "output_type": "stream",
     "text": [
      "Help on class StrBinTree in module __main__:\n",
      "\n",
      "class StrBinTree(builtins.object)\n",
      " |  StrBinTree(val)\n",
      " |  \n",
      " |  Класс бинарного дерева с функциями поиска и выдачи расстояния до ближайшей сохраненной строки:\n",
      " |  \n",
      " |  Methods defined here:\n",
      " |  \n",
      " |  __add__(self, s)\n",
      " |      добавляет новую уникальную строку в дерево\n",
      " |  \n",
      " |  __init__(self, val)\n",
      " |      Initialize self.  See help(type(self)) for accurate signature.\n",
      " |  \n",
      " |  __len__(self)\n",
      " |      возвращает количество строк в дереве\n",
      " |  \n",
      " |  add(self, val)\n",
      " |      добавляет строку в дерево\n",
      " |  \n",
      " |  display(self, level=0)\n",
      " |      визуализирует дерево\n",
      " |  \n",
      " |  get(self, str)\n",
      " |      возвращает ближайшую с лексической точки зрения строку и расстояние строки-аргумента\n",
      " |      до нее\n",
      " |  \n",
      " |  isin(self, str)\n",
      " |      возвращает True, если есть точно такая же строка, или False, если её нет\n",
      " |  \n",
      " |  remove(self, str, parent=None, flag='')\n",
      " |      удаляет строку. Удаление производится только в случае точного совпадения\n",
      " |      строки с указанной. Возвращает 0, если удаление выполнено, и 1 в остальных случаях\n",
      " |  \n",
      " |  to_list(self)\n",
      " |      возвращает все строки в виде упорядоченного списка\n",
      " |  \n",
      " |  ----------------------------------------------------------------------\n",
      " |  Data descriptors defined here:\n",
      " |  \n",
      " |  __dict__\n",
      " |      dictionary for instance variables (if defined)\n",
      " |  \n",
      " |  __weakref__\n",
      " |      list of weak references to the object (if defined)\n",
      "\n"
     ]
    }
   ],
   "source": [
    "help( StrBinTree)"
   ]
  },
  {
   "cell_type": "markdown",
   "metadata": {},
   "source": [
    "ДЗ посылать по адресу __mai-ml AT mail.ru__"
   ]
  },
  {
   "cell_type": "markdown",
   "metadata": {},
   "source": [
    "## Экзаменационные вопросы:"
   ]
  },
  {
   "cell_type": "markdown",
   "metadata": {},
   "source": [
    "* Объектно-оринетированное программирование. Основные положения\n",
    "* Классы и объекты в Python\n",
    "* Функциональное программирование. Основные положения\n",
    "* Функциональное программирование в Python\n",
    "* Генераторы списков, словарей и просто генераторы\n",
    "* Функции отображения: map, filter, reduce"
   ]
  },
  {
   "cell_type": "markdown",
   "metadata": {},
   "source": [
    "### К следующему занятию п(р)очитать:\n"
   ]
  },
  {
   "cell_type": "markdown",
   "metadata": {},
   "source": [
    "* что такое объектно ориентированное програмирование\n",
    "* что такое функциональное программирование"
   ]
  }
 ],
 "metadata": {
  "kernelspec": {
   "display_name": "Python 3",
   "language": "python",
   "name": "python3"
  },
  "language_info": {
   "codemirror_mode": {
    "name": "ipython",
    "version": 3
   },
   "file_extension": ".py",
   "mimetype": "text/x-python",
   "name": "python",
   "nbconvert_exporter": "python",
   "pygments_lexer": "ipython3",
   "version": "3.8.3"
  }
 },
 "nbformat": 4,
 "nbformat_minor": 2
}
